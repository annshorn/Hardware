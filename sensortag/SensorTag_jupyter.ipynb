{
 "cells": [
  {
   "cell_type": "code",
   "execution_count": null,
   "metadata": {},
   "outputs": [],
   "source": [
    "import bluepy\n",
    "from bluepy import sensortag\n",
    "\n",
    "import sys\n",
    "import traceback\n",
    "import struct \n",
    "\n",
    "acceler = []\n",
    "gyroscope = []\n",
    "magno = []\n",
    "\n",
    "mac = 'MAC ADRESS'\n",
    "\n",
    "tag = None\n",
    "\n",
    "print('connecting to '+mac, end='', flush=True)\n",
    "while tag == None:\n",
    "    try:\n",
    "        tag = sensortag.SensorTag(mac)\n",
    "    except (bluepy.btle.BTLEException):\n",
    "        print('.', end='', flush=True)\n",
    "    except (Excpetion, e):\n",
    "        print()\n",
    "        print(e)\n",
    "        sys.exit()\n",
    "\n",
    "tag.accelerometer.enable()\n",
    "tag.magnetometer.enable()\n",
    "tag.gyroscope.enable()\n",
    "\n",
    "while True:\n",
    "    acceler.append(tag.accelerometer.read())\n",
    "    gyroscope.append(tag.gyroscope.read())\n",
    "    magno.append(tag.magnetometer.read() )\n",
    "        \n",
    "    tag.waitForNotifications(0.1)"
   ]
  }
 ],
 "metadata": {
  "kernelspec": {
   "display_name": "Python 3",
   "language": "python",
   "name": "python3"
  },
  "language_info": {
   "codemirror_mode": {
    "name": "ipython",
    "version": 3
   },
   "file_extension": ".py",
   "mimetype": "text/x-python",
   "name": "python",
   "nbconvert_exporter": "python",
   "pygments_lexer": "ipython3",
   "version": "3.6.8"
  }
 },
 "nbformat": 4,
 "nbformat_minor": 2
}
